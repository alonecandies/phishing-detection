{
 "cells": [
  {
   "cell_type": "code",
   "execution_count": 1,
   "metadata": {},
   "outputs": [],
   "source": [
    "import json\n",
    "from ast import literal_eval\n",
    "from pymongo import MongoClient\n",
    "from urllib.parse import urlparse\n",
    "\n",
    "client = MongoClient(\"mongodb://localhost:27017\")\n",
    "dbWhite = client[\"phishing\"][\"whitelist\"]\n",
    "dbBlack = client[\"phishing\"][\"blacklist\"]\n"
   ]
  },
  {
   "cell_type": "code",
   "execution_count": 2,
   "metadata": {},
   "outputs": [],
   "source": [
    "f = open('./GenerateDataset/dataset/blacklist')\n",
    "arr = literal_eval(f.read())\n",
    "# insert if url not exist\n",
    "for item in arr:\n",
    "    domain = urlparse(item[\"url\"]).netloc\n",
    "    if (dbBlack.find_one({\"url\": domain}) is None):\n",
    "        dbBlack.insert_one({\"url\": domain, \"type\": item[\"type\"]})\n"
   ]
  },
  {
   "cell_type": "code",
   "execution_count": 3,
   "metadata": {},
   "outputs": [],
   "source": [
    "f = open('./GenerateDataset/dataset/hellblacklist.txt')\n",
    "# split by 2 lines\n",
    "arr = f.read().splitlines()\n",
    "for i, val in enumerate(arr):\n",
    "    if i % 2 == 1:\n",
    "        domain = val.split(\".\")[-2] + \".\" + val.split(\".\")[-1]\n",
    "        if (dbBlack.find_one({\"url\": domain}) is None):\n",
    "            dbBlack.insert_one({\"url\": domain})\n",
    "\n",
    "# insert if url not exist\n",
    "# for item in arr:\n",
    "#     domain = urlparse(item[\"url\"]).netloc\n",
    "#     if (dbBlack.find_one({\"url\": domain}) is None):\n",
    "#         dbBlack.insert_one({\"url\": domain, \"type\": item[\"type\"]})\n"
   ]
  }
 ],
 "metadata": {
  "kernelspec": {
   "display_name": "env",
   "language": "python",
   "name": "python3"
  },
  "language_info": {
   "codemirror_mode": {
    "name": "ipython",
    "version": 3
   },
   "file_extension": ".py",
   "mimetype": "text/x-python",
   "name": "python",
   "nbconvert_exporter": "python",
   "pygments_lexer": "ipython3",
   "version": "3.10.6"
  },
  "orig_nbformat": 4
 },
 "nbformat": 4,
 "nbformat_minor": 2
}
